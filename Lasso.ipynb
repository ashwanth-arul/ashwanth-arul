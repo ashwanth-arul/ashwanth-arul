{
 "cells": [
  {
   "cell_type": "markdown",
   "metadata": {},
   "source": [
    "# <center>Assignment 2</center> \n",
    "### <center>Lasso Regression </center>"
   ]
  },
  {
   "cell_type": "code",
   "execution_count": 1,
   "metadata": {},
   "outputs": [],
   "source": [
    "#Task 1 \n",
    "from sklearn.datasets import load_diabetes\n",
    "diabetes = load_diabetes()\n",
    "\n",
    "#Task 2 \n",
    "from sklearn.model_selection import train_test_split\n",
    "X_train, X_test, y_train, y_test = train_test_split(diabetes['data'],diabetes['target'], random_state=1410)\n",
    "#print(X_train)\n"
   ]
  },
  {
   "cell_type": "code",
   "execution_count": 2,
   "metadata": {},
   "outputs": [
    {
     "name": "stdout",
     "output_type": "stream",
     "text": [
      "The training R^2 for the data imported from sklearn is:  0.3700692463049169\n",
      "\n",
      "The test R^2 for the data imported from sklearn is:  0.3493317545285277\n"
     ]
    }
   ],
   "source": [
    "#Finding R^2 values of training and test set\n",
    "from sklearn.linear_model import Lasso \n",
    "lassoModel = Lasso() # using default parameters \n",
    "lassoModel.fit(X_train, y_train) \n",
    "training_r2 = lassoModel.score(X_train, y_train) \n",
    "print(\"The training R^2 for the data imported from sklearn is: \",training_r2) \n",
    "test_r2 = lassoModel.score(X_test,y_test)\n",
    "print(\"\\nThe test R^2 for the data imported from sklearn is: \",test_r2)"
   ]
  },
  {
   "cell_type": "code",
   "execution_count": 3,
   "metadata": {},
   "outputs": [
    {
     "name": "stdout",
     "output_type": "stream",
     "text": [
      "\n",
      "This model uses 10 feature variables.\n",
      "\n",
      "Namely: 'age'\t'sex'\t'bmi'\t'bp'\t's1'\t's2'\t's3'\t's4'\t's5'\t's6'\n"
     ]
    }
   ],
   "source": [
    "#Task 3 answers\n",
    "print(\"\\nThis model uses 10 feature variables.\\n\\nNamely: 'age'\\t'sex'\\t'bmi'\\t'bp'\\t's1'\\t's2'\\t's3'\\t's4'\\t's5'\\t's6'\")"
   ]
  },
  {
   "cell_type": "code",
   "execution_count": 4,
   "metadata": {},
   "outputs": [],
   "source": [
    "#Task 4 importing original dataset \n",
    "import numpy as np\n",
    "X = np.genfromtxt(\"diabetes.txt\",usecols = range(0,9))\n",
    "y = np.genfromtxt(\"diabetes.txt\", usecols = 10)"
   ]
  },
  {
   "cell_type": "code",
   "execution_count": 5,
   "metadata": {},
   "outputs": [],
   "source": [
    "#Task 5\n",
    "X_train, X_test, y_train, y_test = train_test_split(X,y, random_state=1410)\n",
    "#print(X_train)"
   ]
  },
  {
   "cell_type": "code",
   "execution_count": 6,
   "metadata": {},
   "outputs": [
    {
     "name": "stdout",
     "output_type": "stream",
     "text": [
      "The training R^2 for the original data is:  0.5242124054175406\n",
      "\n",
      "The test R^2 for the orginal data is:  0.45754404781376157\n"
     ]
    }
   ],
   "source": [
    "#Task 6\n",
    "lassoModel = Lasso() # using default parameters for the original dataset\n",
    "lassoModel.fit(X_train, y_train) \n",
    "training_r2 = lassoModel.score(X_train, y_train) \n",
    "print(\"The training R^2 for the original data is: \",training_r2) \n",
    "test_r2 = lassoModel.score(X_test,y_test)\n",
    "print(\"\\nThe test R^2 for the orginal data is: \",test_r2)"
   ]
  },
  {
   "cell_type": "markdown",
   "metadata": {},
   "source": [
    "    It is been observed that the R^2 value of training and test set computed from the sklearn diabetes dataset has a lower value than the orginal dataset downloaded from the internet.  "
   ]
  },
  {
   "cell_type": "code",
   "execution_count": 7,
   "metadata": {},
   "outputs": [],
   "source": [
    "#Task 7\n",
    "from sklearn.preprocessing import StandardScaler\n",
    "sc = StandardScaler()\n",
    "X_train = sc.fit_transform(X_train)\n",
    "X_train = sc.transform(X_train)\n",
    "\n",
    "X_test = sc.fit_transform(X_test)\n",
    "X_test = sc.transform(X_test)"
   ]
  },
  {
   "cell_type": "code",
   "execution_count": 8,
   "metadata": {},
   "outputs": [
    {
     "name": "stdout",
     "output_type": "stream",
     "text": [
      "The training R^2 for the original data is:  0.47293122707416335\n",
      "\n",
      "The test R^2 for the orginal data is:  0.3697912870231459\n"
     ]
    }
   ],
   "source": [
    "#Task 8\n",
    "lassoModel = Lasso()\n",
    "lassoModel.fit(X_train, y_train) \n",
    "training_r2 = lassoModel.score(X_train, y_train) \n",
    "print(\"The training R^2 for the original data is: \",training_r2) \n",
    "test_r2 = lassoModel.score(X_test,y_test)\n",
    "print(\"\\nThe test R^2 for the orginal data is: \",test_r2)"
   ]
  },
  {
   "cell_type": "markdown",
   "metadata": {},
   "source": [
    "    The current results are closer to those in In[2], since the reason for different results in In[2] and In[6] was that the former were for normalized data while the latter were for the original data. So we get a closer value to In[2] after using StandardScaler()."
   ]
  },
  {
   "cell_type": "code",
   "execution_count": 9,
   "metadata": {},
   "outputs": [
    {
     "data": {
      "image/png": "[encoded data removed]",
      "text/plain": [
       "<Figure size 432x288 with 1 Axes>"
      ]
     },
     "metadata": {
      "needs_background": "light"
     },
     "output_type": "display_data"
    }
   ],
   "source": [
    "#Task 9\n",
    "import matplotlib.pyplot as plt \n",
    "from sklearn.feature_selection import SelectFromModel\n",
    "NoOfFeatures = []\n",
    "test_r2 = []\n",
    "feature_names = np.array(diabetes.feature_names[1:])\n",
    "for i in range(1,15):\n",
    "    lassoModel = Lasso(alpha = i*0.10)  \n",
    "    selector = SelectFromModel(lassoModel).fit(X_train, y_train)\n",
    "    #print(\"Features selected by SelectFromModel: \" f\"{feature_names[selector.get_support()]}\")\n",
    "    NoOfFeatures.append(len(feature_names[selector.get_support()]))\n",
    "    lassoModel.fit(X_train, y_train) \n",
    "    test_r2.append(lassoModel.score(X_test,y_test))\n",
    "plt.plot(test_r2, NoOfFeatures)\n",
    "plt.title(\"Test R^2 vs No. of features used\")\n",
    "plt.xlabel(\"Test R^2\")\n",
    "plt.ylabel(\"Features used\")\n",
    "plt.show()"
   ]
  },
  {
   "cell_type": "markdown",
   "metadata": {},
   "source": [
    "    The graph shows that by varying the parameter (alpha) in the Lasso model, the number of features used (i.e., Non zero coefficients) varies accordingly. We can also infer that the change in the number of features used also produces variation in the test R^2 value. The lesser the features used, more significant the model becomes. Nevertheless, we cannot take a single feature into consideration in real-time which over-estimates the efficiency of the model."
   ]
  },
  {
   "cell_type": "code",
   "execution_count": 10,
   "metadata": {},
   "outputs": [
    {
     "name": "stdout",
     "output_type": "stream",
     "text": [
      "0.25 : 48.556955184052306\n",
      "0.5 : 46.43589445471688\n",
      "0.75 : 45.023287041273015\n",
      "1.0 : 44.194385001705996\n",
      "1.25 : 43.99405779196041\n",
      "1.5 : 43.750655179152446\n",
      "1.75 : 43.45875887912071\n",
      "2.0 : 43.11442108841178\n"
     ]
    }
   ],
   "source": [
    "#Task 10\n",
    "from sklearn.model_selection import cross_val_score\n",
    "from statistics import mean \n",
    "cross_val_scores_lasso = [] \n",
    "  \n",
    "# List to maintain the different values of alpha\n",
    "alpha = [] \n",
    "  \n",
    "# Loop to compute the cross-validation scores \n",
    "for i in range(1, 9): \n",
    "    lassoModel = Lasso(alpha = i * 0.25) \n",
    "    lassoModel.fit(X_train, y_train) \n",
    "    scores = cross_val_score(lassoModel, X_train, y_train, cv = 10)\n",
    "    cross_val_scores_lasso.append(mean(scores)*100) \n",
    "    alpha.append(i * 0.25) \n",
    "\n",
    "# Loop to print the different values of cross-validation scores \n",
    "for i in range(0, len(alpha)): \n",
    "    print(str(alpha[i])+' : '+str(cross_val_scores_lasso[i]))"
   ]
  },
  {
   "cell_type": "code",
   "execution_count": 11,
   "metadata": {},
   "outputs": [
    {
     "name": "stdout",
     "output_type": "stream",
     "text": [
      "The training R^2 for the original data is:  0.46120493418459885\n",
      "\n",
      "The test R^2 for the orginal data is:  0.35181905954936143\n"
     ]
    }
   ],
   "source": [
    "#Lasso regression after selecting the regularisation parameter\n",
    "lasso_Chosen = Lasso(alpha = 2) \n",
    "lasso_Chosen.fit(X_train, y_train) \n",
    "  \n",
    "# Evaluating the Lasso Regression model \n",
    "training_r2 = lasso_Chosen.score(X_train, y_train) \n",
    "print(\"The training R^2 for the original data is: \",training_r2) \n",
    "test_r2 = lasso_Chosen.score(X_test,y_test)\n",
    "print(\"\\nThe test R^2 for the orginal data is: \",test_r2)"
   ]
  },
  {
   "cell_type": "code",
   "execution_count": 12,
   "metadata": {},
   "outputs": [
    {
     "name": "stdout",
     "output_type": "stream",
     "text": [
      "Features selected by SelectFromModel: ['bmi' 'bp' 's5' 's6']\n",
      "Number of features used: 4\n"
     ]
    }
   ],
   "source": [
    "selector = SelectFromModel(lasso_Chosen).fit(X_train, y_train)\n",
    "print(\"Features selected by SelectFromModel: \" f\"{feature_names[selector.get_support()]}\")\n",
    "NoOfFeatures = len(feature_names[selector.get_support()])\n",
    "print(\"Number of features used:\", NoOfFeatures)"
   ]
  },
  {
   "cell_type": "markdown",
   "metadata": {},
   "source": [
    "## <center>Inductive conformal prediction</center>"
   ]
  },
  {
   "cell_type": "code",
   "execution_count": 13,
   "metadata": {},
   "outputs": [],
   "source": [
    "#Task 11(a)\n",
    "X_train, X_test, y_train, y_test = train_test_split(X,y, random_state=1410)\n",
    "X_train_proper, X_calibration, y_train_proper, y_calibration = train_test_split(X_train,y_train, test_size = 99, random_state=1410)"
   ]
  },
  {
   "cell_type": "markdown",
   "metadata": {},
   "source": [
    "    In the above cell, I splited the training set into calibration set with size 99 and training proper set with the remaining sets available. The random state is specified with respect to my DOB"
   ]
  },
  {
   "cell_type": "code",
   "execution_count": 14,
   "metadata": {},
   "outputs": [],
   "source": [
    "#Task 11(b)\n",
    "X_train_proper = sc.fit_transform(X_train_proper)\n",
    "X_train_proper = sc.transform(X_train_proper)\n",
    "\n",
    "X_calibration = sc.fit_transform(X_calibration)\n",
    "X_calibration = sc.transform(X_calibration)\n",
    "\n",
    "X_test = sc.fit_transform(X_test)\n",
    "X_test = sc.transform(X_test)"
   ]
  },
  {
   "cell_type": "markdown",
   "metadata": {},
   "source": [
    "    Here, I preprocessed the training set proper, calibration set, and test set using StandardScaler."
   ]
  },
  {
   "cell_type": "code",
   "execution_count": 15,
   "metadata": {},
   "outputs": [],
   "source": [
    "#Task 11(c)\n",
    "#cell to predict the value of yhat \n",
    "lasso_Chosen.fit(X_train_proper, y_train_proper) \n",
    "yhat = lasso_Chosen.predict(X_train_proper)\n",
    "sorted_array = np.sort(abs(y_train_proper - yhat)) #alpha values sorted"
   ]
  },
  {
   "cell_type": "markdown",
   "metadata": {},
   "source": [
    "    Sorted_array contains the alpha values |y - yhat| sorted in ascending order"
   ]
  },
  {
   "cell_type": "code",
   "execution_count": 16,
   "metadata": {},
   "outputs": [],
   "source": [
    "#Calcutaion for k and C values with respect to different epsilon values(significance level)\n",
    "import math\n",
    "epsilon = [0.05, 0.2]\n",
    "k1 = math.ceil((1 - epsilon[0]) * (len(X_calibration)+1))\n",
    "c1 = sorted_array[k1]\n",
    "k2 = math.ceil((1 - epsilon[1]) * (len(X_calibration)+1))\n",
    "c2 = sorted_array[k2]\n",
    "#print(\"\\n\",k1,\"\\n\",c1)\n",
    "#print(\"\\n\",k2,\"\\n\",c2)"
   ]
  },
  {
   "cell_type": "code",
   "execution_count": 17,
   "metadata": {},
   "outputs": [
    {
     "name": "stdout",
     "output_type": "stream",
     "text": [
      "The prediction intervals for significance level 5% is: \n",
      "\n",
      " [[122.45117740302089, 192.3707330206173], [184.51573925223101, 254.43529486982743], [125.5926643077969, 195.5122199253933], [111.8491460192231, 181.76870163681951], [189.72455751591326, 259.6441131335097], [54.93318858195107, 124.85274419954749], [83.4032266907451, 153.32278230834152], [85.64566740178577, 155.5652230193822], [90.39547729077731, 160.31503290837372], [162.59040896253828, 232.5099645801347], [113.8256909416724, 183.74524655926882], [171.27260592851871, 241.19216154611513], [27.303681434568716, 97.22323705216513], [156.19049071862298, 226.1100463362194], [35.002490046694675, 104.92204566429109], [157.4455065679258, 227.36506218552222], [140.2584888501059, 210.1780444677023], [159.81586048341978, 229.7354161010162], [95.63816807684611, 165.55772369444253], [139.82831336220454, 209.74786897980096], [171.05508860490397, 240.9746442225004], [131.68405970129663, 201.60361531889305], [112.56792774656253, 182.48748336415895], [96.1467028765203, 166.0662584941167], [49.75847681052426, 119.67803242812067], [132.3099461780547, 202.22950179565112], [135.7333110816685, 205.6528666992649], [101.98726403114642, 171.90681964874284], [216.07823479053354, 285.99779040812996], [169.43782726224367, 239.3573828798401], [107.04977222337027, 176.96932784096668], [97.89921608245334, 167.81877170004975], [78.96722248766002, 148.88677810525644], [137.56434885043768, 207.4839044680341], [101.2158952649703, 171.13545088256672], [222.34892203752952, 292.26847765512593], [60.23097243478196, 130.15052805237838], [120.08628374022464, 190.00583935782106], [136.12367885310664, 206.04323447070306], [105.00875518175144, 174.92831079934786], [66.51843625498736, 136.43799187258378], [163.26223637595274, 233.18179199354915], [48.207543327524604, 118.12709894512102], [66.41323067482563, 136.33278629242204], [86.21787438451383, 156.13743000211025], [190.1491679004705, 260.0687235180669], [187.27767177752003, 257.19722739511644], [123.01436091893038, 192.9339165365268], [235.49966424776608, 305.4192198653625], [53.6235424747199, 123.54309809231631], [136.04491474724932, 205.96447036484574], [195.00143583541956, 264.920991453016], [151.61762985032487, 221.5371854679213], [107.94708889126525, 177.86664450886167], [145.2162300521968, 215.13578566979322], [207.4667838837098, 277.3863395013062], [122.12257001993294, 192.04212563752935], [88.12073446918339, 158.0402900867798], [117.7937014294589, 187.71325704705532], [127.63270843848227, 197.55226405607868], [75.27254991883183, 145.19210553642824], [83.52541470219103, 153.44497031978744], [80.38664285459924, 150.30619847219566], [182.32330246582615, 252.24285808342256], [95.51187031756217, 165.4314259351586], [121.65028548415069, 191.5698411017471], [46.984784257404954, 116.90433987500137], [166.28147568502425, 236.20103130262066], [58.665493750784094, 128.5850493683805], [119.51521465362384, 189.43477027122026], [148.4449877253021, 218.36454334289851], [94.69551762524759, 164.615073242844], [132.7664922711608, 202.68604788875723], [91.8773249097959, 161.79688052739232], [103.91304400246804, 173.83259962006446], [159.46749932394573, 229.38705494154215], [193.0815586924616, 263.00111431005803], [118.93738259090605, 188.85693820850247], [129.31253002956976, 199.23208564716617], [143.8887366560001, 213.80829227359652], [93.64847385228836, 163.56802946988478], [92.54832115047577, 162.4678767680722], [115.49426052021204, 185.41381613780845], [102.74561969242541, 172.66517531002182], [131.72953385818641, 201.64908947578283], [70.76386965630525, 140.68342527390166], [78.77117881421873, 148.69073443181514], [178.2561812409666, 248.17573685856303], [67.38111888862466, 137.30067450622107], [50.16134155734062, 120.08089717493704], [68.04889284211868, 137.9684484597151], [205.41062906932189, 275.3301846869183], [76.81134298657366, 146.73089860417008], [125.93794830897832, 195.85750392657474], [124.94096415219542, 194.86051976979184], [67.59530473991265, 137.51486035750906], [68.86572677076958, 138.785282388366], [209.22762019730737, 279.1471758149038], [141.46123659732189, 211.3807922149183], [190.04252030558428, 259.9620759231807], [122.232955121631, 192.1525107392274], [72.91084919102684, 142.83040480862326], [155.16363584255123, 225.08319146014765], [76.77126637489437, 146.69082199249078], [87.7552300364614, 157.6747856540578], [89.60367077583408, 159.5232263934305], [41.680053983522726, 111.59960960111914], [131.0772533116242, 200.9968089292206], [130.30206948250134, 200.22162510009775], [132.22971651244438, 202.1492721300408], [180.30978744218487, 250.22934305978129]]\n",
      "\n",
      "\n",
      "The prediction intervals for significance level 5% is: \n",
      "\n",
      " [[126.58715909783518, 188.23475132580302], [188.6517209470453, 250.29931317501314], [129.72864600261119, 191.37623823057902], [115.98512771403739, 177.63271994200522], [193.86053921072755, 255.5081314386954], [59.06917027676536, 120.7167625047332], [87.53920838555939, 149.18680061352723], [89.78164909660006, 151.4292413245679], [94.5314589855916, 156.17905121355943], [166.72639065735257, 228.3739828853204], [117.9616726364867, 179.60926486445453], [175.408587623333, 237.05617985130084], [31.439663129383007, 93.08725535735084], [160.32647241343727, 221.9740646414051], [39.138471741508965, 100.7860639694768], [161.5814882627401, 223.22908049070793], [144.39447054492018, 206.04206277288802], [163.95184217823407, 225.5994344062019], [99.7741497716604, 161.42174199962824], [143.96429505701883, 205.61188728498666], [175.19107029971826, 236.8386625276861], [135.82004139611092, 197.46763362407876], [116.70390944137682, 178.35150166934466], [100.28268457133458, 161.93027679930242], [53.89445850533855, 115.54205073330638], [136.445927872869, 198.09352010083683], [139.86929277648278, 201.51688500445061], [106.12324572596071, 167.77083795392855], [220.21421648534783, 281.86180871331567], [173.57380895705796, 235.2214011850258], [111.18575391818456, 172.8333461461524], [102.03519777726763, 163.68279000523546], [83.10320418247431, 144.75079641044215], [141.70033054525197, 203.3479227732198], [105.35187695978459, 166.99946918775242], [226.4849037323438, 288.13249596031164], [64.36695412959625, 126.01454635756409], [124.22226543503893, 185.86985766300677], [140.25966054792093, 201.90725277588876], [109.14473687656573, 170.79232910453356], [70.65441794980165, 132.3020101777695], [167.39821807076703, 229.04581029873486], [52.343525022338895, 113.99111725030673], [70.54921236963992, 132.19680459760775], [90.35385607932812, 152.00144830729596], [194.2851495952848, 255.93274182325263], [191.41365347233432, 253.06124570030215], [127.15034261374467, 188.7979348417125], [239.63564594258037, 301.2832381705482], [57.75952416953419, 119.40711639750202], [140.1808964420636, 201.82848867003145], [199.13741753023385, 260.7850097582017], [155.75361154513917, 217.401203773107], [112.08307058607954, 173.73066281404738], [149.3522117470111, 210.99980397497893], [211.6027655785241, 273.25035780649193], [126.25855171474723, 187.90614394271506], [92.25671616399768, 153.90430839196551], [121.9296831242732, 183.57727535224103], [131.76869013329656, 193.4162823612644], [79.40853161364612, 141.05612384161395], [87.66139639700532, 149.30898862497315], [84.52262454941354, 146.17021677738137], [186.45928416064044, 248.10687638860827], [99.64785201237646, 161.2954442403443], [125.78626717896498, 187.4338594069328], [51.120765952219244, 112.76835818018708], [170.41745737983854, 232.06504960780637], [62.801475445598385, 124.44906767356622], [123.65119634843813, 185.29878857640597], [152.5809694201164, 214.22856164808422], [98.83149932006188, 160.47909154802971], [136.9024739659751, 198.55006619394294], [96.0133066046102, 157.66089883257803], [108.04902569728233, 169.69661792525017], [163.60348101876002, 225.25107324672786], [197.2175403872759, 258.86513261524374], [123.07336428572034, 184.72095651368818], [133.44851172438405, 195.09610395235188], [148.0247183508144, 209.67231057878223], [97.78445554710265, 159.4320477750705], [96.68430284529006, 158.3318950732579], [119.63024221502633, 181.27783444299416], [106.8816013872397, 168.52919361520753], [135.8655155530007, 197.51310778096854], [74.89985135111954, 136.54744357908737], [82.90716050903302, 144.55475273700085], [182.3921629357809, 244.03975516374874], [71.51710058343895, 133.16469281140678], [54.29732325215491, 115.94491548012275], [72.18487453693297, 133.8324667649008], [209.54661076413618, 271.194202992104], [80.94732468138795, 142.5949169093558], [130.0739300037926, 191.72152223176045], [129.0769458470097, 190.72453807497754], [71.73128643472694, 133.37887866269477], [73.00170846558387, 134.6493006935517], [213.36360189212166, 275.0111941200895], [145.59721829213618, 207.244810520104], [194.17850200039857, 255.8260942283664], [126.36893681644528, 188.01652904441312], [77.04683088584113, 138.69442311380897], [159.29961753736552, 220.94720976533335], [80.90724806970866, 142.5548402976765], [91.89121173127569, 153.53880395924352], [93.73965247064837, 155.3872446986162], [45.816035678337016, 107.46362790630485], [135.21323500643848, 196.86082723440632], [134.43805117731563, 196.08564340528346], [136.36569820725867, 198.0132904352265], [184.44576913699916, 246.093361364967]]\n"
     ]
    }
   ],
   "source": [
    "#Finding the prediction intervals from the obtained C value\n",
    "\n",
    "lasso_Chosen.fit(X_test, y_test) \n",
    "yhat_test = lasso_Chosen.predict(X_test)\n",
    "\n",
    "prediction_interval1 = []\n",
    "for i in range(0,len(yhat_test)):\n",
    "    prediction_interval1.append([yhat_test[i] - c1, yhat_test[i] + c1])\n",
    "\n",
    "print(\"The prediction intervals for significance level 5% is: \\n\\n\",prediction_interval1)\n",
    "prediction_interval2 = []\n",
    "for i in range(0,len(yhat_test)):\n",
    "    prediction_interval2.append([yhat_test[i] - c2, yhat_test[i] + c2])\n",
    "print(\"\\n\\nThe prediction intervals for significance level 5% is: \\n\\n\",prediction_interval2)\n",
    "lower_interval1 = []\n",
    "upper_interval1 = []\n",
    "for i in range(0,len(yhat_test)):\n",
    "    lower_interval1.append(yhat_test[i] - c1)\n",
    "    upper_interval1.append(yhat_test[i] + c1)\n",
    "lower_interval2 = []\n",
    "upper_interval2 = []\n",
    "for i in range(0,len(yhat_test)):\n",
    "    lower_interval2.append(yhat_test[i] - c2)\n",
    "    upper_interval2.append(yhat_test[i] + c2)"
   ]
  },
  {
   "cell_type": "code",
   "execution_count": 18,
   "metadata": {},
   "outputs": [
    {
     "name": "stdout",
     "output_type": "stream",
     "text": [
      "The test error rate for significance level 5% is:  0.5675675675675675\n",
      "The test error rate for significance level 20% is:  0.6126126126126126\n"
     ]
    }
   ],
   "source": [
    "count_test_error1 = 0\n",
    "\n",
    "for i in range(0,len(lower_interval1)-1):\n",
    "    if y_test[i] < lower_interval1[i] or y_test[i] > upper_interval1[i]:\n",
    "            count_test_error1 = count_test_error1 + 1\n",
    "test_error1 = count_test_error1 / len(y_test)\n",
    "print(\"The test error rate for significance level 5% is: \",test_error1)\n",
    "\n",
    "count_test_error2 = 0\n",
    "\n",
    "for i in range(0,len(lower_interval2)-1):\n",
    "    if y_test[i] < lower_interval2[i] or y_test[i] > upper_interval2[i]:\n",
    "            count_test_error2 = count_test_error2 + 1\n",
    "test_error2 = count_test_error2 / len(y_test)\n",
    "print(\"The test error rate for significance level 20% is: \",test_error2)"
   ]
  }
 ],
 "metadata": {
  "kernelspec": {
   "display_name": "Python 3",
   "language": "python",
   "name": "python3"
  },
  "language_info": {
   "codemirror_mode": {
    "name": "ipython",
    "version": 3
   },
   "file_extension": ".py",
   "mimetype": "text/x-python",
   "name": "python",
   "nbconvert_exporter": "python",
   "pygments_lexer": "ipython3",
   "version": "3.8.5"
  }
 },
 "nbformat": 4,
 "nbformat_minor": 4
}
