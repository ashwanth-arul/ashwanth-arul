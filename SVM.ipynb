{
 "cells": [
  {
   "cell_type": "markdown",
   "metadata": {},
   "source": [
    "## <center> Assignment 3  </center>"
   ]
  },
  {
   "cell_type": "markdown",
   "metadata": {},
   "source": [
    "## <center> SVM and Pipelines  </center>"
   ]
  },
  {
   "cell_type": "code",
   "execution_count": 1,
   "metadata": {},
   "outputs": [],
   "source": [
    "from sklearn.datasets import load_wine\n",
    "from sklearn.model_selection import train_test_split\n",
    "from sklearn.preprocessing import MinMaxScaler\n",
    "from sklearn.preprocessing import StandardScaler\n",
    "from sklearn.preprocessing import Normalizer\n",
    "from sklearn.preprocessing import RobustScaler\n",
    "from sklearn.svm import SVC\n",
    "from sklearn.pipeline import Pipeline\n",
    "from sklearn.pipeline import make_pipeline\n",
    "from sklearn.model_selection import cross_val_score\n",
    "from sklearn.metrics import accuracy_score\n",
    "from sklearn.model_selection import GridSearchCV\n",
    "from sklearn.neural_network import MLPClassifier\n",
    "import numpy as np\n",
    "\n",
    "# loading and spliting the data \n",
    "#Task 1\n",
    "wines = load_wine()\n",
    "#Task 2\n",
    "X_train, X_test, y_train, y_test = train_test_split(wines.data, wines.target, random_state=1410)"
   ]
  },
  {
   "cell_type": "code",
   "execution_count": 2,
   "metadata": {},
   "outputs": [
    {
     "data": {
      "text/plain": [
       "array([0.66666667, 0.74074074, 0.74074074, 0.69230769, 0.65384615])"
      ]
     },
     "execution_count": 2,
     "metadata": {},
     "output_type": "execute_result"
    }
   ],
   "source": [
    "#Task 3\n",
    "svm = SVC()\n",
    "cross_val_score(svm,X_train,y_train)"
   ]
  },
  {
   "cell_type": "code",
   "execution_count": 3,
   "metadata": {},
   "outputs": [
    {
     "name": "stdout",
     "output_type": "stream",
     "text": [
      "The accuracy of SVM with default values of parameter is: 0.7333333333333333\n",
      "The test error rate of SVM is 0.2666666666666667\n"
     ]
    }
   ],
   "source": [
    "#Task 4\n",
    "svm.fit(X_train,y_train)\n",
    "accuracy = svm.score(X_test, y_test)\n",
    "print(\"The accuracy of SVM with default values of parameter is:\",accuracy)\n",
    "test_error_rate = 1 - accuracy\n",
    "print(\"The test error rate of SVM is\",test_error_rate)"
   ]
  },
  {
   "cell_type": "markdown",
   "metadata": {},
   "source": [
    "    On comparing the cross validation score and the test error rate of SVM obtained in task 3 and task 4, we can say that it is similar for the 2nd and 3rd array value of cross validation score but the accuracy is higher than that of other scores obtained."
   ]
  },
  {
   "cell_type": "code",
   "execution_count": 4,
   "metadata": {},
   "outputs": [
    {
     "data": {
      "text/plain": [
       "Pipeline(steps=[('minmaxscaler', MinMaxScaler()), ('svc', SVC())])"
      ]
     },
     "execution_count": 4,
     "metadata": {},
     "output_type": "execute_result"
    }
   ],
   "source": [
    "#Task 5\n",
    "pipe1 = make_pipeline(MinMaxScaler(), SVC())\n",
    "pipe1.fit(X_train, y_train)"
   ]
  },
  {
   "cell_type": "code",
   "execution_count": 5,
   "metadata": {},
   "outputs": [
    {
     "data": {
      "text/plain": [
       "Pipeline(steps=[('normalizer', Normalizer()), ('svc', SVC())])"
      ]
     },
     "execution_count": 5,
     "metadata": {},
     "output_type": "execute_result"
    }
   ],
   "source": [
    "pipe2 = make_pipeline(Normalizer(), SVC())\n",
    "pipe2.fit(X_train, y_train)"
   ]
  },
  {
   "cell_type": "code",
   "execution_count": 6,
   "metadata": {},
   "outputs": [
    {
     "data": {
      "text/plain": [
       "Pipeline(steps=[('standardscaler', StandardScaler()), ('svc', SVC())])"
      ]
     },
     "execution_count": 6,
     "metadata": {},
     "output_type": "execute_result"
    }
   ],
   "source": [
    "pipe3 = make_pipeline(StandardScaler(), SVC())\n",
    "pipe3.fit(X_train, y_train)"
   ]
  },
  {
   "cell_type": "code",
   "execution_count": 7,
   "metadata": {},
   "outputs": [
    {
     "data": {
      "text/plain": [
       "Pipeline(steps=[('robustscaler', RobustScaler()), ('svc', SVC())])"
      ]
     },
     "execution_count": 7,
     "metadata": {},
     "output_type": "execute_result"
    }
   ],
   "source": [
    "pipe4 = make_pipeline(RobustScaler(), SVC())\n",
    "pipe4.fit(X_train, y_train)"
   ]
  },
  {
   "cell_type": "code",
   "execution_count": 8,
   "metadata": {},
   "outputs": [
    {
     "name": "stdout",
     "output_type": "stream",
     "text": [
      "Best cross-validation accuracy: 0.9925925925925926\n",
      "Test set score: 0.9333333333333333\n",
      "Best parameters: {'svc__C': 0.1, 'svc__gamma': 1}\n"
     ]
    }
   ],
   "source": [
    "param_grid = {'svc__C': [0.01, 0.1, 1, 10, 100], 'svc__gamma': [0.001, 0.01, 0.1, 1, 10, 100]}\n",
    "grid1 = GridSearchCV(pipe1, param_grid=param_grid, cv=5)\n",
    "grid1.fit(X_train, y_train)\n",
    "print(\"Best cross-validation accuracy:\", grid1.best_score_)\n",
    "print(\"Test set score:\", grid1.score(X_test, y_test))\n",
    "print(\"Best parameters:\", grid1.best_params_)"
   ]
  },
  {
   "cell_type": "code",
   "execution_count": 9,
   "metadata": {},
   "outputs": [
    {
     "name": "stdout",
     "output_type": "stream",
     "text": [
      "Best cross-validation accuracy: 0.9242165242165242\n",
      "Test set score: 0.8888888888888888\n",
      "Best parameters: {'svc__C': 100, 'svc__gamma': 100}\n"
     ]
    }
   ],
   "source": [
    "param_grid = {'svc__C': [0.01, 0.1, 1, 10, 100], 'svc__gamma': [0.001, 0.01, 0.1, 1, 10, 100]}\n",
    "grid2 = GridSearchCV(pipe2, param_grid=param_grid, cv=5)\n",
    "grid2.fit(X_train, y_train)\n",
    "print(\"Best cross-validation accuracy:\", grid2.best_score_)\n",
    "print(\"Test set score:\", grid2.score(X_test, y_test))\n",
    "print(\"Best parameters:\", grid2.best_params_)"
   ]
  },
  {
   "cell_type": "code",
   "execution_count": 10,
   "metadata": {},
   "outputs": [
    {
     "name": "stdout",
     "output_type": "stream",
     "text": [
      "Best cross-validation accuracy: 0.9851851851851852\n",
      "Test set score: 0.9777777777777777\n",
      "Best parameters: {'svc__C': 1, 'svc__gamma': 0.1}\n"
     ]
    }
   ],
   "source": [
    "param_grid = {'svc__C': [0.01, 0.1, 1, 10, 100], 'svc__gamma': [0.001, 0.01, 0.1, 1, 10, 100]}\n",
    "grid3 = GridSearchCV(pipe3, param_grid=param_grid, cv=5)\n",
    "grid3.fit(X_train, y_train)\n",
    "print(\"Best cross-validation accuracy:\", grid3.best_score_)\n",
    "print(\"Test set score:\", grid3.score(X_test, y_test))\n",
    "print(\"Best parameters:\", grid3.best_params_)"
   ]
  },
  {
   "cell_type": "code",
   "execution_count": 11,
   "metadata": {},
   "outputs": [
    {
     "name": "stdout",
     "output_type": "stream",
     "text": [
      "Best cross-validation accuracy: 0.9925925925925926\n",
      "Test set score: 0.9555555555555556\n",
      "Best parameters: {'svc__C': 1, 'svc__gamma': 0.1}\n"
     ]
    }
   ],
   "source": [
    "param_grid = {'svc__C': [0.01, 0.1, 1, 10, 100], 'svc__gamma': [0.001, 0.01, 0.1, 1, 10, 100]}\n",
    "grid4 = GridSearchCV(pipe4, param_grid=param_grid, cv=5)\n",
    "grid4.fit(X_train, y_train)\n",
    "print(\"Best cross-validation accuracy:\", grid4.best_score_)\n",
    "print(\"Test set score:\", grid4.score(X_test, y_test))\n",
    "print(\"Best parameters:\", grid4.best_params_)"
   ]
  },
  {
   "cell_type": "markdown",
   "metadata": {},
   "source": [
    "    Based on the test score, I have selected the grid 3(StandardScalar) to predict the test labels and to calculate accuracy of the model. "
   ]
  },
  {
   "cell_type": "code",
   "execution_count": 12,
   "metadata": {},
   "outputs": [],
   "source": [
    "#Task 6\n",
    "yhat = grid3.predict(X_test)"
   ]
  },
  {
   "cell_type": "code",
   "execution_count": 13,
   "metadata": {},
   "outputs": [
    {
     "data": {
      "text/plain": [
       "0.9777777777777777"
      ]
     },
     "execution_count": 13,
     "metadata": {},
     "output_type": "execute_result"
    }
   ],
   "source": [
    "my_accuracy = accuracy_score(y_test, yhat, normalize=False) / float(y_test.size)\n",
    "my_accuracy"
   ]
  },
  {
   "cell_type": "markdown",
   "metadata": {},
   "source": [
    "<center> Task 8 </center>"
   ]
  },
  {
   "cell_type": "code",
   "execution_count": 14,
   "metadata": {},
   "outputs": [],
   "source": [
    "mlp = MLPClassifier(solver='lbfgs', activation='tanh', random_state=1410,\n",
    "hidden_layer_sizes=[10]).fit(X_train,y_train)"
   ]
  },
  {
   "cell_type": "code",
   "execution_count": 15,
   "metadata": {},
   "outputs": [
    {
     "data": {
      "text/plain": [
       "array([0.37037037, 0.37037037, 0.37037037, 0.38461538, 0.38461538])"
      ]
     },
     "execution_count": 15,
     "metadata": {},
     "output_type": "execute_result"
    }
   ],
   "source": [
    "cross_val_score(mlp,X_train,y_train)"
   ]
  },
  {
   "cell_type": "code",
   "execution_count": 16,
   "metadata": {},
   "outputs": [
    {
     "name": "stdout",
     "output_type": "stream",
     "text": [
      "The accuracy of MLP is: 0.4666666666666667\n",
      "The test error rate of MLP is 0.5333333333333333\n"
     ]
    }
   ],
   "source": [
    "mlp.fit(X_train,y_train)\n",
    "accuracy = mlp.score(X_test, y_test)\n",
    "print(\"The accuracy of MLP is:\",accuracy)\n",
    "test_error_rate = 1 - accuracy\n",
    "print(\"The test error rate of MLP is\",test_error_rate)"
   ]
  },
  {
   "cell_type": "markdown",
   "metadata": {},
   "source": [
    "    On comparing the cross validation score and accuracy of MLP, it is observed that the acuuracy of MLP is higher when compared to the cross validation scores obtained. "
   ]
  },
  {
   "cell_type": "code",
   "execution_count": 17,
   "metadata": {},
   "outputs": [],
   "source": [
    "pipe = Pipeline(steps=[('mlpc', mlp)])"
   ]
  },
  {
   "cell_type": "code",
   "execution_count": 18,
   "metadata": {},
   "outputs": [
    {
     "data": {
      "text/plain": [
       "Pipeline(steps=[('mlpc',\n",
       "                 MLPClassifier(activation='tanh', hidden_layer_sizes=[10],\n",
       "                               random_state=1410, solver='lbfgs'))])"
      ]
     },
     "execution_count": 18,
     "metadata": {},
     "output_type": "execute_result"
    }
   ],
   "source": [
    "pipe.fit(X_train,y_train)"
   ]
  },
  {
   "cell_type": "code",
   "execution_count": 19,
   "metadata": {},
   "outputs": [
    {
     "data": {
      "text/plain": [
       "0.4666666666666667"
      ]
     },
     "execution_count": 19,
     "metadata": {},
     "output_type": "execute_result"
    }
   ],
   "source": [
    "yhat = pipe.predict(X_test)\n",
    "my_accuracy = accuracy_score(y_test, yhat, normalize=False) / float(y_test.size)\n",
    "my_accuracy"
   ]
  },
  {
   "cell_type": "markdown",
   "metadata": {},
   "source": [
    "<center>All the Steps with USPS dataset</center> "
   ]
  },
  {
   "cell_type": "code",
   "execution_count": 20,
   "metadata": {
    "scrolled": true
   },
   "outputs": [],
   "source": [
    "#Task 1\n",
    "usps_data = np.genfromtxt(\"zip.train\")\n",
    "usps_label = np.genfromtxt(\"zip.test\")\n",
    "usps = np.concatenate((usps_data,usps_label),axis=0)"
   ]
  },
  {
   "cell_type": "code",
   "execution_count": 21,
   "metadata": {},
   "outputs": [],
   "source": [
    "#Task2\n",
    "X_train, X_test, y_train, y_test = train_test_split(usps[:,1:], usps[:,0], random_state=1410)"
   ]
  },
  {
   "cell_type": "code",
   "execution_count": 22,
   "metadata": {},
   "outputs": [
    {
     "data": {
      "text/plain": [
       "array([0.97491039, 0.96702509, 0.97419355, 0.97058824, 0.96700143])"
      ]
     },
     "execution_count": 22,
     "metadata": {},
     "output_type": "execute_result"
    }
   ],
   "source": [
    "#Task 3\n",
    "svm = SVC()\n",
    "cross_val_score(svm,X_train,y_train)"
   ]
  },
  {
   "cell_type": "code",
   "execution_count": 23,
   "metadata": {},
   "outputs": [
    {
     "name": "stdout",
     "output_type": "stream",
     "text": [
      "The accuracy of SVM with default values of parameter is: 0.9729032258064516\n",
      "The test error rate of SVM is 0.02709677419354839\n"
     ]
    }
   ],
   "source": [
    "#Task 4\n",
    "svm.fit(X_train,y_train)\n",
    "accuracy = svm.score(X_test, y_test)\n",
    "print(\"The accuracy of SVM with default values of parameter is:\",accuracy)\n",
    "test_error_rate = 1 - accuracy\n",
    "print(\"The test error rate of SVM is\",test_error_rate)"
   ]
  },
  {
   "cell_type": "code",
   "execution_count": 24,
   "metadata": {},
   "outputs": [
    {
     "data": {
      "text/plain": [
       "Pipeline(steps=[('minmaxscaler', MinMaxScaler()), ('svc', SVC())])"
      ]
     },
     "execution_count": 24,
     "metadata": {},
     "output_type": "execute_result"
    }
   ],
   "source": [
    "#Task 5\n",
    "pipe1 = make_pipeline(MinMaxScaler(), SVC())\n",
    "pipe1.fit(X_train, y_train)"
   ]
  },
  {
   "cell_type": "code",
   "execution_count": 25,
   "metadata": {},
   "outputs": [
    {
     "data": {
      "text/plain": [
       "Pipeline(steps=[('standardscaler', StandardScaler()), ('svc', SVC())])"
      ]
     },
     "execution_count": 25,
     "metadata": {},
     "output_type": "execute_result"
    }
   ],
   "source": [
    "pipe3 = make_pipeline(StandardScaler(), SVC())\n",
    "pipe3.fit(X_train, y_train)"
   ]
  },
  {
   "cell_type": "code",
   "execution_count": null,
   "metadata": {},
   "outputs": [],
   "source": [
    "param_grid = {'svc__C': [0.01, 0.1, 1, 10, 100], 'svc__gamma': [0.001, 0.01, 0.1, 1, 10, 100]}\n",
    "grid1 = GridSearchCV(pipe1, param_grid=param_grid, cv=5)\n",
    "grid1.fit(X_train, y_train)\n",
    "print(\"Best cross-validation accuracy:\", grid1.best_score_)\n",
    "print(\"Test set score:\", grid1.score(X_test, y_test))\n",
    "print(\"Best parameters:\", grid1.best_params_)"
   ]
  },
  {
   "cell_type": "code",
   "execution_count": null,
   "metadata": {},
   "outputs": [],
   "source": [
    "param_grid = {'svc__C': [0.01, 0.1, 1, 10, 100], 'svc__gamma': [0.001, 0.01, 0.1, 1, 10, 100]}\n",
    "grid3 = GridSearchCV(pipe3, param_grid=param_grid, cv=5)\n",
    "grid3.fit(X_train, y_train)\n",
    "print(\"Best cross-validation accuracy:\", grid3.best_score_)\n",
    "print(\"Test set score:\", grid3.score(X_test, y_test))\n",
    "print(\"Best parameters:\", grid3.best_params_)"
   ]
  },
  {
   "cell_type": "code",
   "execution_count": null,
   "metadata": {},
   "outputs": [],
   "source": [
    "#Task 6\n",
    "yhat = grid1.predict(X_test)"
   ]
  },
  {
   "cell_type": "code",
   "execution_count": null,
   "metadata": {},
   "outputs": [],
   "source": [
    "my_accuracy = accuracy_score(y_test, yhat, normalize=False) / float(y_test.size)\n",
    "my_accuracy"
   ]
  },
  {
   "cell_type": "code",
   "execution_count": null,
   "metadata": {},
   "outputs": [],
   "source": [
    "mlp = MLPClassifier(solver='lbfgs', activation='tanh', random_state=1410,\n",
    "hidden_layer_sizes=[10]).fit(X_train,y_train)"
   ]
  },
  {
   "cell_type": "code",
   "execution_count": null,
   "metadata": {},
   "outputs": [],
   "source": [
    "cross_val_score(mlp,X_train,y_train)"
   ]
  },
  {
   "cell_type": "code",
   "execution_count": null,
   "metadata": {},
   "outputs": [],
   "source": [
    "mlp.fit(X_train,y_train)\n",
    "accuracy = mlp.score(X_test, y_test)\n",
    "print(\"The accuracy of MLP is:\",accuracy)\n",
    "test_error_rate = 1 - accuracy\n",
    "print(\"The test error rate of MLP is\",test_error_rate)"
   ]
  },
  {
   "cell_type": "code",
   "execution_count": null,
   "metadata": {},
   "outputs": [],
   "source": [
    "pipe = Pipeline(steps=[('mlpc', mlp)])\n",
    "pipe.fit(X_train,y_train)\n",
    "yhat = pipe.predict(X_test)\n",
    "my_accuracy = accuracy_score(y_test, yhat, normalize=False) / float(y_test.size)\n",
    "my_accuracy"
   ]
  }
 ],
 "metadata": {
  "kernelspec": {
   "display_name": "Python 3",
   "language": "python",
   "name": "python3"
  },
  "language_info": {
   "codemirror_mode": {
    "name": "ipython",
    "version": 3
   },
   "file_extension": ".py",
   "mimetype": "text/x-python",
   "name": "python",
   "nbconvert_exporter": "python",
   "pygments_lexer": "ipython3",
   "version": "3.8.5"
  }
 },
 "nbformat": 4,
 "nbformat_minor": 4
}
